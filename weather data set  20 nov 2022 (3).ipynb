{
 "cells": [
  {
   "cell_type": "code",
   "execution_count": 1,
   "id": "827906b5",
   "metadata": {},
   "outputs": [],
   "source": [
    "import numpy as np\n",
    "import pandas as pd\n",
    "import seaborn as sns\n",
    "import matplotlib.pyplot as plt\n",
    "import warnings\n",
    "warnings.filterwarnings(\"ignore\")\n"
   ]
  },
  {
   "cell_type": "code",
   "execution_count": 2,
   "id": "09dc4e57",
   "metadata": {},
   "outputs": [],
   "source": [
    "data = pd.read_csv(\"weatherHistory.csv\")"
   ]
  },
  {
   "cell_type": "code",
   "execution_count": 3,
   "id": "c349cee1",
   "metadata": {},
   "outputs": [
    {
     "data": {
      "text/html": [
       "<div>\n",
       "<style scoped>\n",
       "    .dataframe tbody tr th:only-of-type {\n",
       "        vertical-align: middle;\n",
       "    }\n",
       "\n",
       "    .dataframe tbody tr th {\n",
       "        vertical-align: top;\n",
       "    }\n",
       "\n",
       "    .dataframe thead th {\n",
       "        text-align: right;\n",
       "    }\n",
       "</style>\n",
       "<table border=\"1\" class=\"dataframe\">\n",
       "  <thead>\n",
       "    <tr style=\"text-align: right;\">\n",
       "      <th></th>\n",
       "      <th>Formatted Date</th>\n",
       "      <th>Summary</th>\n",
       "      <th>Precip Type</th>\n",
       "      <th>Temperature (C)</th>\n",
       "      <th>Apparent Temperature (C)</th>\n",
       "      <th>Humidity</th>\n",
       "      <th>Wind Speed (km/h)</th>\n",
       "      <th>Wind Bearing (degrees)</th>\n",
       "      <th>Visibility (km)</th>\n",
       "      <th>Loud Cover</th>\n",
       "      <th>Pressure (millibars)</th>\n",
       "      <th>Daily Summary</th>\n",
       "    </tr>\n",
       "  </thead>\n",
       "  <tbody>\n",
       "    <tr>\n",
       "      <th>0</th>\n",
       "      <td>2006-04-01 00:00:00.000 +0200</td>\n",
       "      <td>Partly Cloudy</td>\n",
       "      <td>rain</td>\n",
       "      <td>9.472222</td>\n",
       "      <td>7.388889</td>\n",
       "      <td>0.89</td>\n",
       "      <td>14.1197</td>\n",
       "      <td>251.0</td>\n",
       "      <td>15.8263</td>\n",
       "      <td>0.0</td>\n",
       "      <td>1015.13</td>\n",
       "      <td>Partly cloudy throughout the day.</td>\n",
       "    </tr>\n",
       "    <tr>\n",
       "      <th>1</th>\n",
       "      <td>2006-04-01 01:00:00.000 +0200</td>\n",
       "      <td>Partly Cloudy</td>\n",
       "      <td>rain</td>\n",
       "      <td>9.355556</td>\n",
       "      <td>7.227778</td>\n",
       "      <td>0.86</td>\n",
       "      <td>14.2646</td>\n",
       "      <td>259.0</td>\n",
       "      <td>15.8263</td>\n",
       "      <td>0.0</td>\n",
       "      <td>1015.63</td>\n",
       "      <td>Partly cloudy throughout the day.</td>\n",
       "    </tr>\n",
       "    <tr>\n",
       "      <th>2</th>\n",
       "      <td>2006-04-01 02:00:00.000 +0200</td>\n",
       "      <td>Mostly Cloudy</td>\n",
       "      <td>rain</td>\n",
       "      <td>9.377778</td>\n",
       "      <td>9.377778</td>\n",
       "      <td>0.89</td>\n",
       "      <td>3.9284</td>\n",
       "      <td>204.0</td>\n",
       "      <td>14.9569</td>\n",
       "      <td>0.0</td>\n",
       "      <td>1015.94</td>\n",
       "      <td>Partly cloudy throughout the day.</td>\n",
       "    </tr>\n",
       "    <tr>\n",
       "      <th>3</th>\n",
       "      <td>2006-04-01 03:00:00.000 +0200</td>\n",
       "      <td>Partly Cloudy</td>\n",
       "      <td>rain</td>\n",
       "      <td>8.288889</td>\n",
       "      <td>5.944444</td>\n",
       "      <td>0.83</td>\n",
       "      <td>14.1036</td>\n",
       "      <td>269.0</td>\n",
       "      <td>15.8263</td>\n",
       "      <td>0.0</td>\n",
       "      <td>1016.41</td>\n",
       "      <td>Partly cloudy throughout the day.</td>\n",
       "    </tr>\n",
       "    <tr>\n",
       "      <th>4</th>\n",
       "      <td>2006-04-01 04:00:00.000 +0200</td>\n",
       "      <td>Mostly Cloudy</td>\n",
       "      <td>rain</td>\n",
       "      <td>8.755556</td>\n",
       "      <td>6.977778</td>\n",
       "      <td>0.83</td>\n",
       "      <td>11.0446</td>\n",
       "      <td>259.0</td>\n",
       "      <td>15.8263</td>\n",
       "      <td>0.0</td>\n",
       "      <td>1016.51</td>\n",
       "      <td>Partly cloudy throughout the day.</td>\n",
       "    </tr>\n",
       "    <tr>\n",
       "      <th>...</th>\n",
       "      <td>...</td>\n",
       "      <td>...</td>\n",
       "      <td>...</td>\n",
       "      <td>...</td>\n",
       "      <td>...</td>\n",
       "      <td>...</td>\n",
       "      <td>...</td>\n",
       "      <td>...</td>\n",
       "      <td>...</td>\n",
       "      <td>...</td>\n",
       "      <td>...</td>\n",
       "      <td>...</td>\n",
       "    </tr>\n",
       "    <tr>\n",
       "      <th>96448</th>\n",
       "      <td>2016-09-09 19:00:00.000 +0200</td>\n",
       "      <td>Partly Cloudy</td>\n",
       "      <td>rain</td>\n",
       "      <td>26.016667</td>\n",
       "      <td>26.016667</td>\n",
       "      <td>0.43</td>\n",
       "      <td>10.9963</td>\n",
       "      <td>31.0</td>\n",
       "      <td>16.1000</td>\n",
       "      <td>0.0</td>\n",
       "      <td>1014.36</td>\n",
       "      <td>Partly cloudy starting in the morning.</td>\n",
       "    </tr>\n",
       "    <tr>\n",
       "      <th>96449</th>\n",
       "      <td>2016-09-09 20:00:00.000 +0200</td>\n",
       "      <td>Partly Cloudy</td>\n",
       "      <td>rain</td>\n",
       "      <td>24.583333</td>\n",
       "      <td>24.583333</td>\n",
       "      <td>0.48</td>\n",
       "      <td>10.0947</td>\n",
       "      <td>20.0</td>\n",
       "      <td>15.5526</td>\n",
       "      <td>0.0</td>\n",
       "      <td>1015.16</td>\n",
       "      <td>Partly cloudy starting in the morning.</td>\n",
       "    </tr>\n",
       "    <tr>\n",
       "      <th>96450</th>\n",
       "      <td>2016-09-09 21:00:00.000 +0200</td>\n",
       "      <td>Partly Cloudy</td>\n",
       "      <td>rain</td>\n",
       "      <td>22.038889</td>\n",
       "      <td>22.038889</td>\n",
       "      <td>0.56</td>\n",
       "      <td>8.9838</td>\n",
       "      <td>30.0</td>\n",
       "      <td>16.1000</td>\n",
       "      <td>0.0</td>\n",
       "      <td>1015.66</td>\n",
       "      <td>Partly cloudy starting in the morning.</td>\n",
       "    </tr>\n",
       "    <tr>\n",
       "      <th>96451</th>\n",
       "      <td>2016-09-09 22:00:00.000 +0200</td>\n",
       "      <td>Partly Cloudy</td>\n",
       "      <td>rain</td>\n",
       "      <td>21.522222</td>\n",
       "      <td>21.522222</td>\n",
       "      <td>0.60</td>\n",
       "      <td>10.5294</td>\n",
       "      <td>20.0</td>\n",
       "      <td>16.1000</td>\n",
       "      <td>0.0</td>\n",
       "      <td>1015.95</td>\n",
       "      <td>Partly cloudy starting in the morning.</td>\n",
       "    </tr>\n",
       "    <tr>\n",
       "      <th>96452</th>\n",
       "      <td>2016-09-09 23:00:00.000 +0200</td>\n",
       "      <td>Partly Cloudy</td>\n",
       "      <td>rain</td>\n",
       "      <td>20.438889</td>\n",
       "      <td>20.438889</td>\n",
       "      <td>0.61</td>\n",
       "      <td>5.8765</td>\n",
       "      <td>39.0</td>\n",
       "      <td>15.5204</td>\n",
       "      <td>0.0</td>\n",
       "      <td>1016.16</td>\n",
       "      <td>Partly cloudy starting in the morning.</td>\n",
       "    </tr>\n",
       "  </tbody>\n",
       "</table>\n",
       "<p>96453 rows × 12 columns</p>\n",
       "</div>"
      ],
      "text/plain": [
       "                      Formatted Date        Summary Precip Type  \\\n",
       "0      2006-04-01 00:00:00.000 +0200  Partly Cloudy        rain   \n",
       "1      2006-04-01 01:00:00.000 +0200  Partly Cloudy        rain   \n",
       "2      2006-04-01 02:00:00.000 +0200  Mostly Cloudy        rain   \n",
       "3      2006-04-01 03:00:00.000 +0200  Partly Cloudy        rain   \n",
       "4      2006-04-01 04:00:00.000 +0200  Mostly Cloudy        rain   \n",
       "...                              ...            ...         ...   \n",
       "96448  2016-09-09 19:00:00.000 +0200  Partly Cloudy        rain   \n",
       "96449  2016-09-09 20:00:00.000 +0200  Partly Cloudy        rain   \n",
       "96450  2016-09-09 21:00:00.000 +0200  Partly Cloudy        rain   \n",
       "96451  2016-09-09 22:00:00.000 +0200  Partly Cloudy        rain   \n",
       "96452  2016-09-09 23:00:00.000 +0200  Partly Cloudy        rain   \n",
       "\n",
       "       Temperature (C)  Apparent Temperature (C)  Humidity  Wind Speed (km/h)  \\\n",
       "0             9.472222                  7.388889      0.89            14.1197   \n",
       "1             9.355556                  7.227778      0.86            14.2646   \n",
       "2             9.377778                  9.377778      0.89             3.9284   \n",
       "3             8.288889                  5.944444      0.83            14.1036   \n",
       "4             8.755556                  6.977778      0.83            11.0446   \n",
       "...                ...                       ...       ...                ...   \n",
       "96448        26.016667                 26.016667      0.43            10.9963   \n",
       "96449        24.583333                 24.583333      0.48            10.0947   \n",
       "96450        22.038889                 22.038889      0.56             8.9838   \n",
       "96451        21.522222                 21.522222      0.60            10.5294   \n",
       "96452        20.438889                 20.438889      0.61             5.8765   \n",
       "\n",
       "       Wind Bearing (degrees)  Visibility (km)  Loud Cover  \\\n",
       "0                       251.0          15.8263         0.0   \n",
       "1                       259.0          15.8263         0.0   \n",
       "2                       204.0          14.9569         0.0   \n",
       "3                       269.0          15.8263         0.0   \n",
       "4                       259.0          15.8263         0.0   \n",
       "...                       ...              ...         ...   \n",
       "96448                    31.0          16.1000         0.0   \n",
       "96449                    20.0          15.5526         0.0   \n",
       "96450                    30.0          16.1000         0.0   \n",
       "96451                    20.0          16.1000         0.0   \n",
       "96452                    39.0          15.5204         0.0   \n",
       "\n",
       "       Pressure (millibars)                           Daily Summary  \n",
       "0                   1015.13       Partly cloudy throughout the day.  \n",
       "1                   1015.63       Partly cloudy throughout the day.  \n",
       "2                   1015.94       Partly cloudy throughout the day.  \n",
       "3                   1016.41       Partly cloudy throughout the day.  \n",
       "4                   1016.51       Partly cloudy throughout the day.  \n",
       "...                     ...                                     ...  \n",
       "96448               1014.36  Partly cloudy starting in the morning.  \n",
       "96449               1015.16  Partly cloudy starting in the morning.  \n",
       "96450               1015.66  Partly cloudy starting in the morning.  \n",
       "96451               1015.95  Partly cloudy starting in the morning.  \n",
       "96452               1016.16  Partly cloudy starting in the morning.  \n",
       "\n",
       "[96453 rows x 12 columns]"
      ]
     },
     "execution_count": 3,
     "metadata": {},
     "output_type": "execute_result"
    }
   ],
   "source": [
    "data"
   ]
  },
  {
   "cell_type": "code",
   "execution_count": 4,
   "id": "aac46d68",
   "metadata": {},
   "outputs": [
    {
     "data": {
      "text/plain": [
       "2010-08-02 00:00:00.000 +0200    2\n",
       "2010-08-02 12:00:00.000 +0200    2\n",
       "2010-08-02 03:00:00.000 +0200    2\n",
       "2010-08-02 04:00:00.000 +0200    2\n",
       "2010-08-02 05:00:00.000 +0200    2\n",
       "                                ..\n",
       "2009-03-09 22:00:00.000 +0100    1\n",
       "2009-03-09 21:00:00.000 +0100    1\n",
       "2009-03-09 20:00:00.000 +0100    1\n",
       "2009-03-09 19:00:00.000 +0100    1\n",
       "2016-09-09 23:00:00.000 +0200    1\n",
       "Name: Formatted Date, Length: 96429, dtype: int64"
      ]
     },
     "execution_count": 4,
     "metadata": {},
     "output_type": "execute_result"
    }
   ],
   "source": [
    "data[\"Formatted Date\"].value_counts()"
   ]
  },
  {
   "cell_type": "code",
   "execution_count": 5,
   "id": "3993931d",
   "metadata": {},
   "outputs": [],
   "source": [
    "data.drop([\"Formatted Date\"],axis=1,inplace=True)"
   ]
  },
  {
   "cell_type": "code",
   "execution_count": 6,
   "id": "a85f8137",
   "metadata": {},
   "outputs": [
    {
     "name": "stdout",
     "output_type": "stream",
     "text": [
      "<class 'pandas.core.frame.DataFrame'>\n",
      "RangeIndex: 96453 entries, 0 to 96452\n",
      "Data columns (total 11 columns):\n",
      " #   Column                    Non-Null Count  Dtype  \n",
      "---  ------                    --------------  -----  \n",
      " 0   Summary                   96453 non-null  object \n",
      " 1   Precip Type               95936 non-null  object \n",
      " 2   Temperature (C)           96453 non-null  float64\n",
      " 3   Apparent Temperature (C)  96453 non-null  float64\n",
      " 4   Humidity                  96453 non-null  float64\n",
      " 5   Wind Speed (km/h)         96453 non-null  float64\n",
      " 6   Wind Bearing (degrees)    96453 non-null  float64\n",
      " 7   Visibility (km)           96453 non-null  float64\n",
      " 8   Loud Cover                96453 non-null  float64\n",
      " 9   Pressure (millibars)      96453 non-null  float64\n",
      " 10  Daily Summary             96453 non-null  object \n",
      "dtypes: float64(8), object(3)\n",
      "memory usage: 8.1+ MB\n"
     ]
    }
   ],
   "source": [
    "data.info()"
   ]
  },
  {
   "cell_type": "code",
   "execution_count": 7,
   "id": "41b41388",
   "metadata": {},
   "outputs": [
    {
     "data": {
      "text/plain": [
       "array(['Partly Cloudy', 'Mostly Cloudy', 'Overcast', 'Foggy',\n",
       "       'Breezy and Mostly Cloudy', 'Clear', 'Breezy and Partly Cloudy',\n",
       "       'Breezy and Overcast', 'Humid and Mostly Cloudy',\n",
       "       'Humid and Partly Cloudy', 'Windy and Foggy', 'Windy and Overcast',\n",
       "       'Breezy and Foggy', 'Windy and Partly Cloudy', 'Breezy',\n",
       "       'Dry and Partly Cloudy', 'Windy and Mostly Cloudy',\n",
       "       'Dangerously Windy and Partly Cloudy', 'Dry', 'Windy',\n",
       "       'Humid and Overcast', 'Light Rain', 'Drizzle', 'Windy and Dry',\n",
       "       'Dry and Mostly Cloudy', 'Breezy and Dry', 'Rain'], dtype=object)"
      ]
     },
     "execution_count": 7,
     "metadata": {},
     "output_type": "execute_result"
    }
   ],
   "source": [
    "data['Summary'].unique()"
   ]
  },
  {
   "cell_type": "code",
   "execution_count": 8,
   "id": "86c1ec91",
   "metadata": {},
   "outputs": [],
   "source": [
    " cloudy = data[\"Summary\"].value_counts()"
   ]
  },
  {
   "cell_type": "code",
   "execution_count": 9,
   "id": "85ebfc5f",
   "metadata": {},
   "outputs": [
    {
     "data": {
      "image/png": "[encoded data removed]",
      "text/plain": [
       "<Figure size 432x288 with 1 Axes>"
      ]
     },
     "metadata": {},
     "output_type": "display_data"
    }
   ],
   "source": [
    "plt.pie(cloudy)\n",
    "plt.show()"
   ]
  },
  {
   "cell_type": "code",
   "execution_count": 10,
   "id": "7548eaca",
   "metadata": {},
   "outputs": [
    {
     "data": {
      "text/plain": [
       "rain    85224\n",
       "snow    10712\n",
       "Name: Precip Type, dtype: int64"
      ]
     },
     "execution_count": 10,
     "metadata": {},
     "output_type": "execute_result"
    }
   ],
   "source": [
    "data[\"Precip Type\"].value_counts()"
   ]
  },
  {
   "cell_type": "code",
   "execution_count": 11,
   "id": "a7c85302",
   "metadata": {},
   "outputs": [
    {
     "data": {
      "text/plain": [
       "Mostly cloudy throughout the day.                                                                       20085\n",
       "Partly cloudy throughout the day.                                                                        9981\n",
       "Partly cloudy until night.                                                                               6169\n",
       "Partly cloudy starting in the morning.                                                                   5184\n",
       "Foggy in the morning.                                                                                    4201\n",
       "                                                                                                        ...  \n",
       "Breezy starting overnight continuing until morning and foggy overnight.                                    24\n",
       "Mostly cloudy throughout the day and breezy starting overnight continuing until afternoon.                 24\n",
       "Partly cloudy starting in the morning and breezy starting in the afternoon continuing until evening.       24\n",
       "Rain until afternoon.                                                                                      24\n",
       "Foggy starting overnight continuing until morning and breezy in the afternoon.                             23\n",
       "Name: Daily Summary, Length: 214, dtype: int64"
      ]
     },
     "execution_count": 11,
     "metadata": {},
     "output_type": "execute_result"
    }
   ],
   "source": [
    "data[\"Daily Summary\"].value_counts()"
   ]
  },
  {
   "cell_type": "code",
   "execution_count": 12,
   "id": "5de63282",
   "metadata": {},
   "outputs": [],
   "source": [
    "data.drop(['Daily Summary'],axis=1,inplace=True)"
   ]
  },
  {
   "cell_type": "code",
   "execution_count": 13,
   "id": "da11a936",
   "metadata": {},
   "outputs": [
    {
     "name": "stdout",
     "output_type": "stream",
     "text": [
      "<class 'pandas.core.frame.DataFrame'>\n",
      "RangeIndex: 96453 entries, 0 to 96452\n",
      "Data columns (total 10 columns):\n",
      " #   Column                    Non-Null Count  Dtype  \n",
      "---  ------                    --------------  -----  \n",
      " 0   Summary                   96453 non-null  object \n",
      " 1   Precip Type               95936 non-null  object \n",
      " 2   Temperature (C)           96453 non-null  float64\n",
      " 3   Apparent Temperature (C)  96453 non-null  float64\n",
      " 4   Humidity                  96453 non-null  float64\n",
      " 5   Wind Speed (km/h)         96453 non-null  float64\n",
      " 6   Wind Bearing (degrees)    96453 non-null  float64\n",
      " 7   Visibility (km)           96453 non-null  float64\n",
      " 8   Loud Cover                96453 non-null  float64\n",
      " 9   Pressure (millibars)      96453 non-null  float64\n",
      "dtypes: float64(8), object(2)\n",
      "memory usage: 7.4+ MB\n"
     ]
    }
   ],
   "source": [
    "data.info()"
   ]
  },
  {
   "cell_type": "code",
   "execution_count": 14,
   "id": "0fdb0b3e",
   "metadata": {},
   "outputs": [
    {
     "data": {
      "text/plain": [
       "Summary                       0\n",
       "Precip Type                 517\n",
       "Temperature (C)               0\n",
       "Apparent Temperature (C)      0\n",
       "Humidity                      0\n",
       "Wind Speed (km/h)             0\n",
       "Wind Bearing (degrees)        0\n",
       "Visibility (km)               0\n",
       "Loud Cover                    0\n",
       "Pressure (millibars)          0\n",
       "dtype: int64"
      ]
     },
     "execution_count": 14,
     "metadata": {},
     "output_type": "execute_result"
    }
   ],
   "source": [
    "data.isnull().sum()"
   ]
  },
  {
   "cell_type": "code",
   "execution_count": 15,
   "id": "a989dbd4",
   "metadata": {},
   "outputs": [
    {
     "data": {
      "text/plain": [
       "Summary                     0.000000\n",
       "Precip Type                 0.536012\n",
       "Temperature (C)             0.000000\n",
       "Apparent Temperature (C)    0.000000\n",
       "Humidity                    0.000000\n",
       "Wind Speed (km/h)           0.000000\n",
       "Wind Bearing (degrees)      0.000000\n",
       "Visibility (km)             0.000000\n",
       "Loud Cover                  0.000000\n",
       "Pressure (millibars)        0.000000\n",
       "dtype: float64"
      ]
     },
     "execution_count": 15,
     "metadata": {},
     "output_type": "execute_result"
    }
   ],
   "source": [
    "data.isnull().sum()/len(data)*100"
   ]
  },
  {
   "cell_type": "code",
   "execution_count": 16,
   "id": "092b9631",
   "metadata": {},
   "outputs": [],
   "source": [
    "data.dropna(inplace=True)"
   ]
  },
  {
   "cell_type": "code",
   "execution_count": 17,
   "id": "59e2f976",
   "metadata": {},
   "outputs": [
    {
     "data": {
      "text/plain": [
       "Summary                     0\n",
       "Precip Type                 0\n",
       "Temperature (C)             0\n",
       "Apparent Temperature (C)    0\n",
       "Humidity                    0\n",
       "Wind Speed (km/h)           0\n",
       "Wind Bearing (degrees)      0\n",
       "Visibility (km)             0\n",
       "Loud Cover                  0\n",
       "Pressure (millibars)        0\n",
       "dtype: int64"
      ]
     },
     "execution_count": 17,
     "metadata": {},
     "output_type": "execute_result"
    }
   ],
   "source": [
    "data.isnull().sum()"
   ]
  },
  {
   "cell_type": "code",
   "execution_count": 18,
   "id": "0acd1149",
   "metadata": {},
   "outputs": [
    {
     "data": {
      "text/plain": [
       "(95936, 10)"
      ]
     },
     "execution_count": 18,
     "metadata": {},
     "output_type": "execute_result"
    }
   ],
   "source": [
    "data.shape"
   ]
  },
  {
   "cell_type": "code",
   "execution_count": 19,
   "id": "19dc6dd9",
   "metadata": {},
   "outputs": [],
   "source": [
    "col_list = list(data.columns)"
   ]
  },
  {
   "cell_type": "code",
   "execution_count": 20,
   "id": "4255431d",
   "metadata": {},
   "outputs": [
    {
     "data": {
      "text/plain": [
       "['Summary',\n",
       " 'Precip Type',\n",
       " 'Temperature (C)',\n",
       " 'Apparent Temperature (C)',\n",
       " 'Humidity',\n",
       " 'Wind Speed (km/h)',\n",
       " 'Wind Bearing (degrees)',\n",
       " 'Visibility (km)',\n",
       " 'Loud Cover',\n",
       " 'Pressure (millibars)']"
      ]
     },
     "execution_count": 20,
     "metadata": {},
     "output_type": "execute_result"
    }
   ],
   "source": [
    "col_list"
   ]
  },
  {
   "cell_type": "code",
   "execution_count": 21,
   "id": "804a9a42",
   "metadata": {},
   "outputs": [
    {
     "data": {
      "text/plain": [
       "['Summary',\n",
       " 'Precip Type',\n",
       " 'Temperature (C)',\n",
       " 'Apparent Temperature (C)',\n",
       " 'Humidity',\n",
       " 'Wind Speed (km/h)',\n",
       " 'Wind Bearing (degrees)',\n",
       " 'Visibility (km)',\n",
       " 'Loud Cover',\n",
       " 'Pressure (millibars)']"
      ]
     },
     "execution_count": 21,
     "metadata": {},
     "output_type": "execute_result"
    }
   ],
   "source": [
    "col_list"
   ]
  },
  {
   "cell_type": "code",
   "execution_count": 22,
   "id": "633fd4e4",
   "metadata": {},
   "outputs": [],
   "source": [
    "col_list.remove('Precip Type')"
   ]
  },
  {
   "cell_type": "code",
   "execution_count": 23,
   "id": "7da64441",
   "metadata": {},
   "outputs": [
    {
     "data": {
      "text/plain": [
       "['Summary',\n",
       " 'Temperature (C)',\n",
       " 'Apparent Temperature (C)',\n",
       " 'Humidity',\n",
       " 'Wind Speed (km/h)',\n",
       " 'Wind Bearing (degrees)',\n",
       " 'Visibility (km)',\n",
       " 'Loud Cover',\n",
       " 'Pressure (millibars)']"
      ]
     },
     "execution_count": 23,
     "metadata": {},
     "output_type": "execute_result"
    }
   ],
   "source": [
    "col_list"
   ]
  },
  {
   "cell_type": "code",
   "execution_count": 24,
   "id": "fe38f2d8",
   "metadata": {},
   "outputs": [
    {
     "data": {
      "image/png": "[encoded data removed]",
      "text/plain": [
       "<Figure size 432x288 with 1 Axes>"
      ]
     },
     "metadata": {
      "needs_background": "light"
     },
     "output_type": "display_data"
    },
    {
     "data": {
      "image/png": "[encoded data removed]",
      "text/plain": [
       "<Figure size 432x288 with 1 Axes>"
      ]
     },
     "metadata": {
      "needs_background": "light"
     },
     "output_type": "display_data"
    },
    {
     "data": {
      "image/png": "[encoded data removed]",
      "text/plain": [
       "<Figure size 432x288 with 1 Axes>"
      ]
     },
     "metadata": {
      "needs_background": "light"
     },
     "output_type": "display_data"
    },
    {
     "data": {
      "image/png": "[encoded data removed]",
      "text/plain": [
       "<Figure size 432x288 with 1 Axes>"
      ]
     },
     "metadata": {
      "needs_background": "light"
     },
     "output_type": "display_data"
    },
    {
     "data": {
      "image/png": "[encoded data removed]",
      "text/plain": [
       "<Figure size 432x288 with 1 Axes>"
      ]
     },
     "metadata": {
      "needs_background": "light"
     },
     "output_type": "display_data"
    },
    {
     "data": {
      "image/png": "[encoded data removed]",
      "text/plain": [
       "<Figure size 432x288 with 1 Axes>"
      ]
     },
     "metadata": {
      "needs_background": "light"
     },
     "output_type": "display_data"
    },
    {
     "data": {
      "image/png": "[encoded data removed]",
      "text/plain": [
       "<Figure size 432x288 with 1 Axes>"
      ]
     },
     "metadata": {
      "needs_background": "light"
     },
     "output_type": "display_data"
    },
    {
     "data": {
      "image/png": "[encoded data removed]",
      "text/plain": [
       "<Figure size 432x288 with 1 Axes>"
      ]
     },
     "metadata": {
      "needs_background": "light"
     },
     "output_type": "display_data"
    }
   ],
   "source": [
    "for i in col_list:\n",
    "    if data[i].dtypes==object:\n",
    "        pass\n",
    "    else:\n",
    "        plt.boxplot(data[i])\n",
    "        plt.xlabel(i)\n",
    "        plt.ylabel('count')\n",
    "        plt.show()"
   ]
  },
  {
   "cell_type": "code",
   "execution_count": 25,
   "id": "79419e7b",
   "metadata": {},
   "outputs": [],
   "source": [
    "q1= data.quantile(0.25)\n",
    "q3= data.quantile(0.75)\n",
    "iqr=q3-q1"
   ]
  },
  {
   "cell_type": "code",
   "execution_count": 26,
   "id": "097c2381",
   "metadata": {},
   "outputs": [
    {
     "name": "stdout",
     "output_type": "stream",
     "text": [
      "Temperature (C)              14.240278\n",
      "Apparent Temperature (C)     16.568056\n",
      "Humidity                      0.290000\n",
      "Wind Speed (km/h)             8.339800\n",
      "Wind Bearing (degrees)      174.000000\n",
      "Visibility (km)               6.440000\n",
      "Loud Cover                    0.000000\n",
      "Pressure (millibars)          9.160000\n",
      "dtype: float64\n"
     ]
    }
   ],
   "source": [
    "print(iqr)"
   ]
  },
  {
   "cell_type": "code",
   "execution_count": 27,
   "id": "5116df06",
   "metadata": {},
   "outputs": [],
   "source": [
    "data = data[~((data<(q1-1.5*iqr))|(data>q3+1.5*iqr)).any(axis=1)]"
   ]
  },
  {
   "cell_type": "code",
   "execution_count": 28,
   "id": "dd16cd07",
   "metadata": {},
   "outputs": [
    {
     "data": {
      "image/png": "[encoded data removed]",
      "text/plain": [
       "<Figure size 432x288 with 1 Axes>"
      ]
     },
     "metadata": {
      "needs_background": "light"
     },
     "output_type": "display_data"
    },
    {
     "data": {
      "image/png": "[encoded data removed]",
      "text/plain": [
       "<Figure size 432x288 with 1 Axes>"
      ]
     },
     "metadata": {
      "needs_background": "light"
     },
     "output_type": "display_data"
    },
    {
     "data": {
      "image/png": "[encoded data removed]",
      "text/plain": [
       "<Figure size 432x288 with 1 Axes>"
      ]
     },
     "metadata": {
      "needs_background": "light"
     },
     "output_type": "display_data"
    },
    {
     "data": {
      "image/png": "[encoded data removed]",
      "text/plain": [
       "<Figure size 432x288 with 1 Axes>"
      ]
     },
     "metadata": {
      "needs_background": "light"
     },
     "output_type": "display_data"
    },
    {
     "data": {
      "image/png": "[encoded data removed]",
      "text/plain": [
       "<Figure size 432x288 with 1 Axes>"
      ]
     },
     "metadata": {
      "needs_background": "light"
     },
     "output_type": "display_data"
    },
    {
     "data": {
      "image/png": "[encoded data removed]",
      "text/plain": [
       "<Figure size 432x288 with 1 Axes>"
      ]
     },
     "metadata": {
      "needs_background": "light"
     },
     "output_type": "display_data"
    },
    {
     "data": {
      "image/png": "[encoded data removed]",
      "text/plain": [
       "<Figure size 432x288 with 1 Axes>"
      ]
     },
     "metadata": {
      "needs_background": "light"
     },
     "output_type": "display_data"
    },
    {
     "data": {
      "image/png": "[encoded data removed]",
      "text/plain": [
       "<Figure size 432x288 with 1 Axes>"
      ]
     },
     "metadata": {
      "needs_background": "light"
     },
     "output_type": "display_data"
    }
   ],
   "source": [
    "for i in col_list:\n",
    "    if data[i].dtypes==object:\n",
    "        pass\n",
    "    else:\n",
    "        plt.boxplot(data[i])\n",
    "        plt.xlabel(i)\n",
    "        plt.ylabel('count')\n",
    "        plt.show()"
   ]
  },
  {
   "cell_type": "code",
   "execution_count": 29,
   "id": "e083afcc",
   "metadata": {},
   "outputs": [
    {
     "data": {
      "text/plain": [
       "Summary                      object\n",
       "Precip Type                  object\n",
       "Temperature (C)             float64\n",
       "Apparent Temperature (C)    float64\n",
       "Humidity                    float64\n",
       "Wind Speed (km/h)           float64\n",
       "Wind Bearing (degrees)      float64\n",
       "Visibility (km)             float64\n",
       "Loud Cover                  float64\n",
       "Pressure (millibars)        float64\n",
       "dtype: object"
      ]
     },
     "execution_count": 29,
     "metadata": {},
     "output_type": "execute_result"
    }
   ],
   "source": [
    "data.dtypes"
   ]
  },
  {
   "cell_type": "code",
   "execution_count": 30,
   "id": "2966c169",
   "metadata": {},
   "outputs": [],
   "source": [
    "col_list=[]\n",
    "for i in data.columns:\n",
    "    if((data[i].dtypes==object)&(i!=\"Precip Type\")):\n",
    "        col_list.append(i)"
   ]
  },
  {
   "cell_type": "code",
   "execution_count": 31,
   "id": "12e3fb52",
   "metadata": {},
   "outputs": [
    {
     "data": {
      "text/plain": [
       "['Summary']"
      ]
     },
     "execution_count": 31,
     "metadata": {},
     "output_type": "execute_result"
    }
   ],
   "source": [
    "col_list"
   ]
  },
  {
   "cell_type": "code",
   "execution_count": 57,
   "id": "d6ac534c",
   "metadata": {},
   "outputs": [],
   "source": [
    "from sklearn.preprocessing import LabelEncoder"
   ]
  },
  {
   "cell_type": "code",
   "execution_count": 58,
   "id": "18a64833",
   "metadata": {},
   "outputs": [],
   "source": [
    "labelencoder=LabelEncoder()"
   ]
  },
  {
   "cell_type": "code",
   "execution_count": 59,
   "id": "8b241cc2",
   "metadata": {},
   "outputs": [],
   "source": [
    "for i in col_list:\n",
    "    data[i]= labelencoder.fit_transform(data[i])"
   ]
  },
  {
   "cell_type": "code",
   "execution_count": 60,
   "id": "7e477785",
   "metadata": {},
   "outputs": [
    {
     "data": {
      "text/plain": [
       "Summary                       int32\n",
       "Precip Type                  object\n",
       "Temperature (C)             float64\n",
       "Apparent Temperature (C)    float64\n",
       "Humidity                    float64\n",
       "Wind Speed (km/h)           float64\n",
       "Wind Bearing (degrees)      float64\n",
       "Visibility (km)             float64\n",
       "Loud Cover                  float64\n",
       "Pressure (millibars)        float64\n",
       "dtype: object"
      ]
     },
     "execution_count": 60,
     "metadata": {},
     "output_type": "execute_result"
    }
   ],
   "source": [
    "data.dtypes"
   ]
  },
  {
   "cell_type": "code",
   "execution_count": 61,
   "id": "38e9b989",
   "metadata": {},
   "outputs": [
    {
     "data": {
      "text/html": [
       "<div>\n",
       "<style scoped>\n",
       "    .dataframe tbody tr th:only-of-type {\n",
       "        vertical-align: middle;\n",
       "    }\n",
       "\n",
       "    .dataframe tbody tr th {\n",
       "        vertical-align: top;\n",
       "    }\n",
       "\n",
       "    .dataframe thead th {\n",
       "        text-align: right;\n",
       "    }\n",
       "</style>\n",
       "<table border=\"1\" class=\"dataframe\">\n",
       "  <thead>\n",
       "    <tr style=\"text-align: right;\">\n",
       "      <th></th>\n",
       "      <th>Summary</th>\n",
       "      <th>Temperature (C)</th>\n",
       "      <th>Apparent Temperature (C)</th>\n",
       "      <th>Humidity</th>\n",
       "      <th>Wind Speed (km/h)</th>\n",
       "      <th>Wind Bearing (degrees)</th>\n",
       "      <th>Visibility (km)</th>\n",
       "      <th>Loud Cover</th>\n",
       "      <th>Pressure (millibars)</th>\n",
       "    </tr>\n",
       "  </thead>\n",
       "  <tbody>\n",
       "    <tr>\n",
       "      <th>Summary</th>\n",
       "      <td>1.000000</td>\n",
       "      <td>0.173298</td>\n",
       "      <td>0.170632</td>\n",
       "      <td>-0.186815</td>\n",
       "      <td>-0.089954</td>\n",
       "      <td>-0.008861</td>\n",
       "      <td>0.101826</td>\n",
       "      <td>NaN</td>\n",
       "      <td>0.076944</td>\n",
       "    </tr>\n",
       "    <tr>\n",
       "      <th>Temperature (C)</th>\n",
       "      <td>0.173298</td>\n",
       "      <td>1.000000</td>\n",
       "      <td>0.993845</td>\n",
       "      <td>-0.628071</td>\n",
       "      <td>-0.038434</td>\n",
       "      <td>0.021731</td>\n",
       "      <td>0.291674</td>\n",
       "      <td>NaN</td>\n",
       "      <td>-0.255774</td>\n",
       "    </tr>\n",
       "    <tr>\n",
       "      <th>Apparent Temperature (C)</th>\n",
       "      <td>0.170632</td>\n",
       "      <td>0.993845</td>\n",
       "      <td>1.000000</td>\n",
       "      <td>-0.599973</td>\n",
       "      <td>-0.090426</td>\n",
       "      <td>0.022735</td>\n",
       "      <td>0.290860</td>\n",
       "      <td>NaN</td>\n",
       "      <td>-0.245005</td>\n",
       "    </tr>\n",
       "    <tr>\n",
       "      <th>Humidity</th>\n",
       "      <td>-0.186815</td>\n",
       "      <td>-0.628071</td>\n",
       "      <td>-0.599973</td>\n",
       "      <td>1.000000</td>\n",
       "      <td>-0.177250</td>\n",
       "      <td>0.016223</td>\n",
       "      <td>-0.257264</td>\n",
       "      <td>NaN</td>\n",
       "      <td>-0.025211</td>\n",
       "    </tr>\n",
       "    <tr>\n",
       "      <th>Wind Speed (km/h)</th>\n",
       "      <td>-0.089954</td>\n",
       "      <td>-0.038434</td>\n",
       "      <td>-0.090426</td>\n",
       "      <td>-0.177250</td>\n",
       "      <td>1.000000</td>\n",
       "      <td>0.077603</td>\n",
       "      <td>0.023048</td>\n",
       "      <td>NaN</td>\n",
       "      <td>-0.152785</td>\n",
       "    </tr>\n",
       "    <tr>\n",
       "      <th>Wind Bearing (degrees)</th>\n",
       "      <td>-0.008861</td>\n",
       "      <td>0.021731</td>\n",
       "      <td>0.022735</td>\n",
       "      <td>0.016223</td>\n",
       "      <td>0.077603</td>\n",
       "      <td>1.000000</td>\n",
       "      <td>0.035519</td>\n",
       "      <td>NaN</td>\n",
       "      <td>-0.072640</td>\n",
       "    </tr>\n",
       "    <tr>\n",
       "      <th>Visibility (km)</th>\n",
       "      <td>0.101826</td>\n",
       "      <td>0.291674</td>\n",
       "      <td>0.290860</td>\n",
       "      <td>-0.257264</td>\n",
       "      <td>0.023048</td>\n",
       "      <td>0.035519</td>\n",
       "      <td>1.000000</td>\n",
       "      <td>NaN</td>\n",
       "      <td>-0.076040</td>\n",
       "    </tr>\n",
       "    <tr>\n",
       "      <th>Loud Cover</th>\n",
       "      <td>NaN</td>\n",
       "      <td>NaN</td>\n",
       "      <td>NaN</td>\n",
       "      <td>NaN</td>\n",
       "      <td>NaN</td>\n",
       "      <td>NaN</td>\n",
       "      <td>NaN</td>\n",
       "      <td>NaN</td>\n",
       "      <td>NaN</td>\n",
       "    </tr>\n",
       "    <tr>\n",
       "      <th>Pressure (millibars)</th>\n",
       "      <td>0.076944</td>\n",
       "      <td>-0.255774</td>\n",
       "      <td>-0.245005</td>\n",
       "      <td>-0.025211</td>\n",
       "      <td>-0.152785</td>\n",
       "      <td>-0.072640</td>\n",
       "      <td>-0.076040</td>\n",
       "      <td>NaN</td>\n",
       "      <td>1.000000</td>\n",
       "    </tr>\n",
       "  </tbody>\n",
       "</table>\n",
       "</div>"
      ],
      "text/plain": [
       "                           Summary  Temperature (C)  Apparent Temperature (C)  \\\n",
       "Summary                   1.000000         0.173298                  0.170632   \n",
       "Temperature (C)           0.173298         1.000000                  0.993845   \n",
       "Apparent Temperature (C)  0.170632         0.993845                  1.000000   \n",
       "Humidity                 -0.186815        -0.628071                 -0.599973   \n",
       "Wind Speed (km/h)        -0.089954        -0.038434                 -0.090426   \n",
       "Wind Bearing (degrees)   -0.008861         0.021731                  0.022735   \n",
       "Visibility (km)           0.101826         0.291674                  0.290860   \n",
       "Loud Cover                     NaN              NaN                       NaN   \n",
       "Pressure (millibars)      0.076944        -0.255774                 -0.245005   \n",
       "\n",
       "                          Humidity  Wind Speed (km/h)  Wind Bearing (degrees)  \\\n",
       "Summary                  -0.186815          -0.089954               -0.008861   \n",
       "Temperature (C)          -0.628071          -0.038434                0.021731   \n",
       "Apparent Temperature (C) -0.599973          -0.090426                0.022735   \n",
       "Humidity                  1.000000          -0.177250                0.016223   \n",
       "Wind Speed (km/h)        -0.177250           1.000000                0.077603   \n",
       "Wind Bearing (degrees)    0.016223           0.077603                1.000000   \n",
       "Visibility (km)          -0.257264           0.023048                0.035519   \n",
       "Loud Cover                     NaN                NaN                     NaN   \n",
       "Pressure (millibars)     -0.025211          -0.152785               -0.072640   \n",
       "\n",
       "                          Visibility (km)  Loud Cover  Pressure (millibars)  \n",
       "Summary                          0.101826         NaN              0.076944  \n",
       "Temperature (C)                  0.291674         NaN             -0.255774  \n",
       "Apparent Temperature (C)         0.290860         NaN             -0.245005  \n",
       "Humidity                        -0.257264         NaN             -0.025211  \n",
       "Wind Speed (km/h)                0.023048         NaN             -0.152785  \n",
       "Wind Bearing (degrees)           0.035519         NaN             -0.072640  \n",
       "Visibility (km)                  1.000000         NaN             -0.076040  \n",
       "Loud Cover                            NaN         NaN                   NaN  \n",
       "Pressure (millibars)            -0.076040         NaN              1.000000  "
      ]
     },
     "execution_count": 61,
     "metadata": {},
     "output_type": "execute_result"
    }
   ],
   "source": [
    "data.corr()"
   ]
  },
  {
   "cell_type": "code",
   "execution_count": 41,
   "id": "4ebef8e9",
   "metadata": {},
   "outputs": [],
   "source": [
    "from statsmodels.stats.outliers_influence import variance_inflation_factor"
   ]
  },
  {
   "cell_type": "code",
   "execution_count": 42,
   "id": "39bfffa3",
   "metadata": {},
   "outputs": [
    {
     "name": "stdout",
     "output_type": "stream",
     "text": [
      "<class 'pandas.core.frame.DataFrame'>\n",
      "Int64Index: 88767 entries, 0 to 96452\n",
      "Data columns (total 8 columns):\n",
      " #   Column                    Non-Null Count  Dtype  \n",
      "---  ------                    --------------  -----  \n",
      " 0   Temperature (C)           88767 non-null  float64\n",
      " 1   Apparent Temperature (C)  88767 non-null  float64\n",
      " 2   Humidity                  88767 non-null  float64\n",
      " 3   Wind Speed (km/h)         88767 non-null  float64\n",
      " 4   Wind Bearing (degrees)    88767 non-null  float64\n",
      " 5   Visibility (km)           88767 non-null  float64\n",
      " 6   Loud Cover                88767 non-null  float64\n",
      " 7   Pressure (millibars)      88767 non-null  float64\n",
      "dtypes: float64(8)\n",
      "memory usage: 6.1 MB\n"
     ]
    }
   ],
   "source": [
    "col_list=[]\n",
    "for i in data.columns:\n",
    "    if((data[i].dtypes!=object)&(i!=\"Precip Type\")):\n",
    "        col_list.append(i)\n",
    "\n",
    "x = data[col_list]\n",
    "x.info()\n"
   ]
  },
  {
   "cell_type": "code",
   "execution_count": 43,
   "id": "19e41e7d",
   "metadata": {},
   "outputs": [
    {
     "name": "stdout",
     "output_type": "stream",
     "text": [
      "                    feature         VIF\n",
      "0           Temperature (C)  303.129046\n",
      "1  Apparent Temperature (C)  235.340251\n",
      "2                  Humidity   28.567254\n",
      "3         Wind Speed (km/h)    5.725736\n",
      "4    Wind Bearing (degrees)    4.082069\n",
      "5           Visibility (km)    8.940021\n",
      "6                Loud Cover         NaN\n",
      "7      Pressure (millibars)   64.766522\n"
     ]
    }
   ],
   "source": [
    "vif_data=pd.DataFrame()\n",
    "vif_data['feature']=x.columns\n",
    "vif_data[\"VIF\"]=[variance_inflation_factor(x.values,i) for i in range(len(x.columns))]\n",
    "print(vif_data)"
   ]
  },
  {
   "cell_type": "code",
   "execution_count": 50,
   "id": "42f6b362",
   "metadata": {},
   "outputs": [],
   "source": [
    "data = data.drop([\"Temperature (C)\"],axis = 1)"
   ]
  },
  {
   "cell_type": "code",
   "execution_count": 54,
   "id": "8c3ca4b4",
   "metadata": {},
   "outputs": [],
   "source": [
    "col_list=[]\n",
    "for i in data.columns:\n",
    "    if((data[i].dtypes!=object)&(i!=\"Precip Type\")):\n",
    "        col_list.append(i)\n",
    "\n",
    "x = data[col_list]"
   ]
  },
  {
   "cell_type": "code",
   "execution_count": 55,
   "id": "44539281",
   "metadata": {},
   "outputs": [
    {
     "name": "stdout",
     "output_type": "stream",
     "text": [
      "                    feature        VIF\n",
      "0  Apparent Temperature (C)   3.829368\n",
      "1                  Humidity  27.132274\n",
      "2         Wind Speed (km/h)   4.471526\n",
      "3    Wind Bearing (degrees)   4.076413\n",
      "4           Visibility (km)   8.938297\n",
      "5                Loud Cover        NaN\n",
      "6      Pressure (millibars)  56.462469\n"
     ]
    }
   ],
   "source": [
    "vif_data=pd.DataFrame()\n",
    "vif_data['feature']=x.columns\n",
    "vif_data[\"VIF\"]=[variance_inflation_factor(x.values,i) for i in range(len(x.columns))]\n",
    "print(vif_data)"
   ]
  },
  {
   "cell_type": "code",
   "execution_count": 56,
   "id": "115a3fbc",
   "metadata": {},
   "outputs": [],
   "source": [
    "data = data.drop([\"Pressure (millibars)\"],axis = 1)"
   ]
  },
  {
   "cell_type": "code",
   "execution_count": 57,
   "id": "79229269",
   "metadata": {},
   "outputs": [
    {
     "name": "stdout",
     "output_type": "stream",
     "text": [
      "                    feature       VIF\n",
      "0  Apparent Temperature (C)  2.721789\n",
      "1                  Humidity  5.680533\n",
      "2         Wind Speed (km/h)  3.616488\n",
      "3    Wind Bearing (degrees)  4.004659\n",
      "4           Visibility (km)  7.529201\n",
      "5                Loud Cover       NaN\n"
     ]
    }
   ],
   "source": [
    "col_list=[]\n",
    "for i in data.columns:\n",
    "    if((data[i].dtypes!=object)&(i!=\"Precip Type\")):\n",
    "        col_list.append(i)\n",
    "\n",
    "x = data[col_list]\n",
    "\n",
    "\n",
    "vif_data=pd.DataFrame()\n",
    "vif_data['feature']=x.columns\n",
    "vif_data[\"VIF\"]=[variance_inflation_factor(x.values,i) for i in range(len(x.columns))]\n",
    "print(vif_data)"
   ]
  },
  {
   "cell_type": "code",
   "execution_count": 59,
   "id": "c86633a4",
   "metadata": {},
   "outputs": [],
   "source": [
    "data = data.drop([\"Loud Cover\"],axis = 1)"
   ]
  },
  {
   "cell_type": "code",
   "execution_count": 60,
   "id": "c4bac444",
   "metadata": {},
   "outputs": [
    {
     "name": "stdout",
     "output_type": "stream",
     "text": [
      "                    feature       VIF\n",
      "0  Apparent Temperature (C)  2.721789\n",
      "1                  Humidity  5.680533\n",
      "2         Wind Speed (km/h)  3.616488\n",
      "3    Wind Bearing (degrees)  4.004659\n",
      "4           Visibility (km)  7.529201\n"
     ]
    }
   ],
   "source": [
    "col_list=[]\n",
    "for i in data.columns:\n",
    "    if((data[i].dtypes!=object)&(i!=\"Precip Type\")):\n",
    "        col_list.append(i)\n",
    "\n",
    "x = data[col_list]\n",
    "\n",
    "\n",
    "vif_data=pd.DataFrame()\n",
    "vif_data['feature']=x.columns\n",
    "vif_data[\"VIF\"]=[variance_inflation_factor(x.values,i) for i in range(len(x.columns))]\n",
    "print(vif_data)"
   ]
  },
  {
   "cell_type": "code",
   "execution_count": 61,
   "id": "8412316d",
   "metadata": {},
   "outputs": [],
   "source": [
    "x= pd.DataFrame(data[vif_data['feature']])"
   ]
  },
  {
   "cell_type": "code",
   "execution_count": 62,
   "id": "6496c4d1",
   "metadata": {},
   "outputs": [
    {
     "data": {
      "text/html": [
       "<div>\n",
       "<style scoped>\n",
       "    .dataframe tbody tr th:only-of-type {\n",
       "        vertical-align: middle;\n",
       "    }\n",
       "\n",
       "    .dataframe tbody tr th {\n",
       "        vertical-align: top;\n",
       "    }\n",
       "\n",
       "    .dataframe thead th {\n",
       "        text-align: right;\n",
       "    }\n",
       "</style>\n",
       "<table border=\"1\" class=\"dataframe\">\n",
       "  <thead>\n",
       "    <tr style=\"text-align: right;\">\n",
       "      <th></th>\n",
       "      <th>Apparent Temperature (C)</th>\n",
       "      <th>Humidity</th>\n",
       "      <th>Wind Speed (km/h)</th>\n",
       "      <th>Wind Bearing (degrees)</th>\n",
       "      <th>Visibility (km)</th>\n",
       "    </tr>\n",
       "  </thead>\n",
       "  <tbody>\n",
       "    <tr>\n",
       "      <th>0</th>\n",
       "      <td>7.388889</td>\n",
       "      <td>0.89</td>\n",
       "      <td>14.1197</td>\n",
       "      <td>251.0</td>\n",
       "      <td>15.8263</td>\n",
       "    </tr>\n",
       "    <tr>\n",
       "      <th>1</th>\n",
       "      <td>7.227778</td>\n",
       "      <td>0.86</td>\n",
       "      <td>14.2646</td>\n",
       "      <td>259.0</td>\n",
       "      <td>15.8263</td>\n",
       "    </tr>\n",
       "    <tr>\n",
       "      <th>2</th>\n",
       "      <td>9.377778</td>\n",
       "      <td>0.89</td>\n",
       "      <td>3.9284</td>\n",
       "      <td>204.0</td>\n",
       "      <td>14.9569</td>\n",
       "    </tr>\n",
       "    <tr>\n",
       "      <th>3</th>\n",
       "      <td>5.944444</td>\n",
       "      <td>0.83</td>\n",
       "      <td>14.1036</td>\n",
       "      <td>269.0</td>\n",
       "      <td>15.8263</td>\n",
       "    </tr>\n",
       "    <tr>\n",
       "      <th>4</th>\n",
       "      <td>6.977778</td>\n",
       "      <td>0.83</td>\n",
       "      <td>11.0446</td>\n",
       "      <td>259.0</td>\n",
       "      <td>15.8263</td>\n",
       "    </tr>\n",
       "    <tr>\n",
       "      <th>...</th>\n",
       "      <td>...</td>\n",
       "      <td>...</td>\n",
       "      <td>...</td>\n",
       "      <td>...</td>\n",
       "      <td>...</td>\n",
       "    </tr>\n",
       "    <tr>\n",
       "      <th>96448</th>\n",
       "      <td>26.016667</td>\n",
       "      <td>0.43</td>\n",
       "      <td>10.9963</td>\n",
       "      <td>31.0</td>\n",
       "      <td>16.1000</td>\n",
       "    </tr>\n",
       "    <tr>\n",
       "      <th>96449</th>\n",
       "      <td>24.583333</td>\n",
       "      <td>0.48</td>\n",
       "      <td>10.0947</td>\n",
       "      <td>20.0</td>\n",
       "      <td>15.5526</td>\n",
       "    </tr>\n",
       "    <tr>\n",
       "      <th>96450</th>\n",
       "      <td>22.038889</td>\n",
       "      <td>0.56</td>\n",
       "      <td>8.9838</td>\n",
       "      <td>30.0</td>\n",
       "      <td>16.1000</td>\n",
       "    </tr>\n",
       "    <tr>\n",
       "      <th>96451</th>\n",
       "      <td>21.522222</td>\n",
       "      <td>0.60</td>\n",
       "      <td>10.5294</td>\n",
       "      <td>20.0</td>\n",
       "      <td>16.1000</td>\n",
       "    </tr>\n",
       "    <tr>\n",
       "      <th>96452</th>\n",
       "      <td>20.438889</td>\n",
       "      <td>0.61</td>\n",
       "      <td>5.8765</td>\n",
       "      <td>39.0</td>\n",
       "      <td>15.5204</td>\n",
       "    </tr>\n",
       "  </tbody>\n",
       "</table>\n",
       "<p>88767 rows × 5 columns</p>\n",
       "</div>"
      ],
      "text/plain": [
       "       Apparent Temperature (C)  Humidity  Wind Speed (km/h)  \\\n",
       "0                      7.388889      0.89            14.1197   \n",
       "1                      7.227778      0.86            14.2646   \n",
       "2                      9.377778      0.89             3.9284   \n",
       "3                      5.944444      0.83            14.1036   \n",
       "4                      6.977778      0.83            11.0446   \n",
       "...                         ...       ...                ...   \n",
       "96448                 26.016667      0.43            10.9963   \n",
       "96449                 24.583333      0.48            10.0947   \n",
       "96450                 22.038889      0.56             8.9838   \n",
       "96451                 21.522222      0.60            10.5294   \n",
       "96452                 20.438889      0.61             5.8765   \n",
       "\n",
       "       Wind Bearing (degrees)  Visibility (km)  \n",
       "0                       251.0          15.8263  \n",
       "1                       259.0          15.8263  \n",
       "2                       204.0          14.9569  \n",
       "3                       269.0          15.8263  \n",
       "4                       259.0          15.8263  \n",
       "...                       ...              ...  \n",
       "96448                    31.0          16.1000  \n",
       "96449                    20.0          15.5526  \n",
       "96450                    30.0          16.1000  \n",
       "96451                    20.0          16.1000  \n",
       "96452                    39.0          15.5204  \n",
       "\n",
       "[88767 rows x 5 columns]"
      ]
     },
     "execution_count": 62,
     "metadata": {},
     "output_type": "execute_result"
    }
   ],
   "source": [
    "x"
   ]
  },
  {
   "cell_type": "code",
   "execution_count": 70,
   "id": "55e928cf",
   "metadata": {},
   "outputs": [],
   "source": [
    "y =  data[[\"Precip Type\"]]"
   ]
  },
  {
   "cell_type": "code",
   "execution_count": 71,
   "id": "ec14eb54",
   "metadata": {},
   "outputs": [
    {
     "data": {
      "text/html": [
       "<div>\n",
       "<style scoped>\n",
       "    .dataframe tbody tr th:only-of-type {\n",
       "        vertical-align: middle;\n",
       "    }\n",
       "\n",
       "    .dataframe tbody tr th {\n",
       "        vertical-align: top;\n",
       "    }\n",
       "\n",
       "    .dataframe thead th {\n",
       "        text-align: right;\n",
       "    }\n",
       "</style>\n",
       "<table border=\"1\" class=\"dataframe\">\n",
       "  <thead>\n",
       "    <tr style=\"text-align: right;\">\n",
       "      <th></th>\n",
       "      <th>Precip Type</th>\n",
       "    </tr>\n",
       "  </thead>\n",
       "  <tbody>\n",
       "    <tr>\n",
       "      <th>0</th>\n",
       "      <td>rain</td>\n",
       "    </tr>\n",
       "    <tr>\n",
       "      <th>1</th>\n",
       "      <td>rain</td>\n",
       "    </tr>\n",
       "    <tr>\n",
       "      <th>2</th>\n",
       "      <td>rain</td>\n",
       "    </tr>\n",
       "    <tr>\n",
       "      <th>3</th>\n",
       "      <td>rain</td>\n",
       "    </tr>\n",
       "    <tr>\n",
       "      <th>4</th>\n",
       "      <td>rain</td>\n",
       "    </tr>\n",
       "    <tr>\n",
       "      <th>...</th>\n",
       "      <td>...</td>\n",
       "    </tr>\n",
       "    <tr>\n",
       "      <th>96448</th>\n",
       "      <td>rain</td>\n",
       "    </tr>\n",
       "    <tr>\n",
       "      <th>96449</th>\n",
       "      <td>rain</td>\n",
       "    </tr>\n",
       "    <tr>\n",
       "      <th>96450</th>\n",
       "      <td>rain</td>\n",
       "    </tr>\n",
       "    <tr>\n",
       "      <th>96451</th>\n",
       "      <td>rain</td>\n",
       "    </tr>\n",
       "    <tr>\n",
       "      <th>96452</th>\n",
       "      <td>rain</td>\n",
       "    </tr>\n",
       "  </tbody>\n",
       "</table>\n",
       "<p>88767 rows × 1 columns</p>\n",
       "</div>"
      ],
      "text/plain": [
       "      Precip Type\n",
       "0            rain\n",
       "1            rain\n",
       "2            rain\n",
       "3            rain\n",
       "4            rain\n",
       "...           ...\n",
       "96448        rain\n",
       "96449        rain\n",
       "96450        rain\n",
       "96451        rain\n",
       "96452        rain\n",
       "\n",
       "[88767 rows x 1 columns]"
      ]
     },
     "execution_count": 71,
     "metadata": {},
     "output_type": "execute_result"
    }
   ],
   "source": [
    "y"
   ]
  },
  {
   "cell_type": "code",
   "execution_count": 72,
   "id": "64a758b7",
   "metadata": {},
   "outputs": [],
   "source": [
    "from sklearn.model_selection import train_test_split"
   ]
  },
  {
   "cell_type": "code",
   "execution_count": 91,
   "id": "b8c4c1e1",
   "metadata": {},
   "outputs": [],
   "source": [
    "x_train,x_test,y_train,y_test=train_test_split(x,y,train_size=0.8,random_state=42)"
   ]
  },
  {
   "cell_type": "code",
   "execution_count": 92,
   "id": "62efea34",
   "metadata": {},
   "outputs": [
    {
     "data": {
      "text/plain": [
       "(71013, 5)"
      ]
     },
     "execution_count": 92,
     "metadata": {},
     "output_type": "execute_result"
    }
   ],
   "source": [
    "x_train.shape"
   ]
  },
  {
   "cell_type": "code",
   "execution_count": 93,
   "id": "ede358ea",
   "metadata": {},
   "outputs": [
    {
     "data": {
      "text/plain": [
       "(17754, 5)"
      ]
     },
     "execution_count": 93,
     "metadata": {},
     "output_type": "execute_result"
    }
   ],
   "source": [
    "x_test.shape"
   ]
  },
  {
   "cell_type": "code",
   "execution_count": 94,
   "id": "c78a5312",
   "metadata": {},
   "outputs": [
    {
     "data": {
      "text/html": [
       "<div>\n",
       "<style scoped>\n",
       "    .dataframe tbody tr th:only-of-type {\n",
       "        vertical-align: middle;\n",
       "    }\n",
       "\n",
       "    .dataframe tbody tr th {\n",
       "        vertical-align: top;\n",
       "    }\n",
       "\n",
       "    .dataframe thead th {\n",
       "        text-align: right;\n",
       "    }\n",
       "</style>\n",
       "<table border=\"1\" class=\"dataframe\">\n",
       "  <thead>\n",
       "    <tr style=\"text-align: right;\">\n",
       "      <th></th>\n",
       "      <th>Apparent Temperature (C)</th>\n",
       "      <th>Humidity</th>\n",
       "      <th>Wind Speed (km/h)</th>\n",
       "      <th>Wind Bearing (degrees)</th>\n",
       "      <th>Visibility (km)</th>\n",
       "    </tr>\n",
       "  </thead>\n",
       "  <tbody>\n",
       "    <tr>\n",
       "      <th>9279</th>\n",
       "      <td>23.511111</td>\n",
       "      <td>0.28</td>\n",
       "      <td>17.5329</td>\n",
       "      <td>341.0</td>\n",
       "      <td>15.8263</td>\n",
       "    </tr>\n",
       "    <tr>\n",
       "      <th>85790</th>\n",
       "      <td>12.216667</td>\n",
       "      <td>0.74</td>\n",
       "      <td>12.2843</td>\n",
       "      <td>160.0</td>\n",
       "      <td>10.2074</td>\n",
       "    </tr>\n",
       "    <tr>\n",
       "      <th>80621</th>\n",
       "      <td>0.100000</td>\n",
       "      <td>0.96</td>\n",
       "      <td>9.5634</td>\n",
       "      <td>41.0</td>\n",
       "      <td>1.4329</td>\n",
       "    </tr>\n",
       "    <tr>\n",
       "      <th>1269</th>\n",
       "      <td>19.927778</td>\n",
       "      <td>0.87</td>\n",
       "      <td>15.3111</td>\n",
       "      <td>70.0</td>\n",
       "      <td>11.2700</td>\n",
       "    </tr>\n",
       "    <tr>\n",
       "      <th>86581</th>\n",
       "      <td>12.205556</td>\n",
       "      <td>0.74</td>\n",
       "      <td>9.8532</td>\n",
       "      <td>302.0</td>\n",
       "      <td>9.5634</td>\n",
       "    </tr>\n",
       "  </tbody>\n",
       "</table>\n",
       "</div>"
      ],
      "text/plain": [
       "       Apparent Temperature (C)  Humidity  Wind Speed (km/h)  \\\n",
       "9279                  23.511111      0.28            17.5329   \n",
       "85790                 12.216667      0.74            12.2843   \n",
       "80621                  0.100000      0.96             9.5634   \n",
       "1269                  19.927778      0.87            15.3111   \n",
       "86581                 12.205556      0.74             9.8532   \n",
       "\n",
       "       Wind Bearing (degrees)  Visibility (km)  \n",
       "9279                    341.0          15.8263  \n",
       "85790                   160.0          10.2074  \n",
       "80621                    41.0           1.4329  \n",
       "1269                     70.0          11.2700  \n",
       "86581                   302.0           9.5634  "
      ]
     },
     "execution_count": 94,
     "metadata": {},
     "output_type": "execute_result"
    }
   ],
   "source": [
    "x_train.head()"
   ]
  },
  {
   "cell_type": "code",
   "execution_count": 95,
   "id": "a559a4d1",
   "metadata": {},
   "outputs": [],
   "source": [
    "from sklearn.linear_model import LogisticRegression"
   ]
  },
  {
   "cell_type": "code",
   "execution_count": 96,
   "id": "694c700a",
   "metadata": {},
   "outputs": [],
   "source": [
    "log_model=LogisticRegression()"
   ]
  },
  {
   "cell_type": "code",
   "execution_count": 97,
   "id": "cac195b8",
   "metadata": {},
   "outputs": [
    {
     "data": {
      "text/plain": [
       "LogisticRegression()"
      ]
     },
     "execution_count": 97,
     "metadata": {},
     "output_type": "execute_result"
    }
   ],
   "source": [
    "log_model.fit(x_train,y_train)"
   ]
  },
  {
   "cell_type": "code",
   "execution_count": 98,
   "id": "b837849e",
   "metadata": {},
   "outputs": [],
   "source": [
    "prediction = log_model.predict(x_test)"
   ]
  },
  {
   "cell_type": "code",
   "execution_count": 99,
   "id": "dcbad56b",
   "metadata": {},
   "outputs": [
    {
     "data": {
      "text/plain": [
       "array(['rain', 'rain', 'rain', ..., 'rain', 'snow', 'rain'], dtype=object)"
      ]
     },
     "execution_count": 99,
     "metadata": {},
     "output_type": "execute_result"
    }
   ],
   "source": [
    "prediction"
   ]
  },
  {
   "cell_type": "code",
   "execution_count": 100,
   "id": "c57a62e9",
   "metadata": {},
   "outputs": [
    {
     "data": {
      "text/html": [
       "<div>\n",
       "<style scoped>\n",
       "    .dataframe tbody tr th:only-of-type {\n",
       "        vertical-align: middle;\n",
       "    }\n",
       "\n",
       "    .dataframe tbody tr th {\n",
       "        vertical-align: top;\n",
       "    }\n",
       "\n",
       "    .dataframe thead th {\n",
       "        text-align: right;\n",
       "    }\n",
       "</style>\n",
       "<table border=\"1\" class=\"dataframe\">\n",
       "  <thead>\n",
       "    <tr style=\"text-align: right;\">\n",
       "      <th></th>\n",
       "      <th>Precip Type</th>\n",
       "    </tr>\n",
       "  </thead>\n",
       "  <tbody>\n",
       "    <tr>\n",
       "      <th>89252</th>\n",
       "      <td>rain</td>\n",
       "    </tr>\n",
       "    <tr>\n",
       "      <th>16340</th>\n",
       "      <td>rain</td>\n",
       "    </tr>\n",
       "    <tr>\n",
       "      <th>65429</th>\n",
       "      <td>rain</td>\n",
       "    </tr>\n",
       "    <tr>\n",
       "      <th>66529</th>\n",
       "      <td>rain</td>\n",
       "    </tr>\n",
       "    <tr>\n",
       "      <th>47125</th>\n",
       "      <td>rain</td>\n",
       "    </tr>\n",
       "    <tr>\n",
       "      <th>...</th>\n",
       "      <td>...</td>\n",
       "    </tr>\n",
       "    <tr>\n",
       "      <th>62785</th>\n",
       "      <td>rain</td>\n",
       "    </tr>\n",
       "    <tr>\n",
       "      <th>14383</th>\n",
       "      <td>rain</td>\n",
       "    </tr>\n",
       "    <tr>\n",
       "      <th>51783</th>\n",
       "      <td>rain</td>\n",
       "    </tr>\n",
       "    <tr>\n",
       "      <th>37135</th>\n",
       "      <td>snow</td>\n",
       "    </tr>\n",
       "    <tr>\n",
       "      <th>45945</th>\n",
       "      <td>rain</td>\n",
       "    </tr>\n",
       "  </tbody>\n",
       "</table>\n",
       "<p>17754 rows × 1 columns</p>\n",
       "</div>"
      ],
      "text/plain": [
       "      Precip Type\n",
       "89252        rain\n",
       "16340        rain\n",
       "65429        rain\n",
       "66529        rain\n",
       "47125        rain\n",
       "...           ...\n",
       "62785        rain\n",
       "14383        rain\n",
       "51783        rain\n",
       "37135        snow\n",
       "45945        rain\n",
       "\n",
       "[17754 rows x 1 columns]"
      ]
     },
     "execution_count": 100,
     "metadata": {},
     "output_type": "execute_result"
    }
   ],
   "source": [
    "y_test"
   ]
  },
  {
   "cell_type": "code",
   "execution_count": 101,
   "id": "dee95c6b",
   "metadata": {},
   "outputs": [],
   "source": [
    "from sklearn.metrics import confusion_matrix,accuracy_score"
   ]
  },
  {
   "cell_type": "code",
   "execution_count": 102,
   "id": "a3c4eb8a",
   "metadata": {},
   "outputs": [
    {
     "data": {
      "text/plain": [
       "0.988565956967444"
      ]
     },
     "execution_count": 102,
     "metadata": {},
     "output_type": "execute_result"
    }
   ],
   "source": [
    "accuracy_score(y_test,prediction)"
   ]
  },
  {
   "cell_type": "code",
   "execution_count": 103,
   "id": "b98a4b8e",
   "metadata": {},
   "outputs": [
    {
     "data": {
      "text/plain": [
       "array([[15901,   112],\n",
       "       [   91,  1650]], dtype=int64)"
      ]
     },
     "execution_count": 103,
     "metadata": {},
     "output_type": "execute_result"
    }
   ],
   "source": [
    "confusion_matrix(y_test,prediction)"
   ]
  },
  {
   "cell_type": "code",
   "execution_count": 87,
   "id": "01d8a705",
   "metadata": {},
   "outputs": [
    {
     "data": {
      "text/plain": [
       "Precip Type\n",
       "rain           15978\n",
       "snow            1776\n",
       "dtype: int64"
      ]
     },
     "execution_count": 87,
     "metadata": {},
     "output_type": "execute_result"
    }
   ],
   "source": [
    "y_test.value_counts()"
   ]
  },
  {
   "cell_type": "code",
   "execution_count": null,
   "id": "8d301445",
   "metadata": {},
   "outputs": [],
   "source": []
  }
 ],
 "metadata": {
  "kernelspec": {
   "display_name": "Python 3 (ipykernel)",
   "language": "python",
   "name": "python3"
  },
  "language_info": {
   "codemirror_mode": {
    "name": "ipython",
    "version": 3
   },
   "file_extension": ".py",
   "mimetype": "text/x-python",
   "name": "python",
   "nbconvert_exporter": "python",
   "pygments_lexer": "ipython3",
   "version": "3.9.13"
  }
 },
 "nbformat": 4,
 "nbformat_minor": 5
}
